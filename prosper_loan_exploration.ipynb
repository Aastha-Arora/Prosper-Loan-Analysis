{
 "cells": [
  {
   "cell_type": "markdown",
   "metadata": {},
   "source": [
    "# Exploring Loan Data from Prosper\n",
    "## by Aastha Arora\n",
    "\n",
    "## Preliminary Wrangling\n",
    "\n",
    "> Prosper is a peer-to-peer lending marketplace. The [data set](https://www.google.com/url?q=https://s3.amazonaws.com/udacity-hosted-downloads/ud651/prosperLoanData.csv&sa=D&ust=1554486256021000) contains 113,937 loans (last updated 03/11/2014) with 81 variables on each loan, including loan amount, borrower rate (or interest rate), current loan status, borrower income, and many others."
   ]
  },
  {
   "cell_type": "code",
   "execution_count": 1,
   "metadata": {},
   "outputs": [],
   "source": [
    "# import all packages and set plots to be embedded inline\n",
    "import numpy as np\n",
    "import pandas as pd\n",
    "import matplotlib.pyplot as plt\n",
    "import seaborn as sb\n",
    "\n",
    "%matplotlib inline"
   ]
  },
  {
   "cell_type": "code",
   "execution_count": 2,
   "metadata": {},
   "outputs": [
    {
     "data": {
      "text/html": [
       "<div>\n",
       "<style scoped>\n",
       "    .dataframe tbody tr th:only-of-type {\n",
       "        vertical-align: middle;\n",
       "    }\n",
       "\n",
       "    .dataframe tbody tr th {\n",
       "        vertical-align: top;\n",
       "    }\n",
       "\n",
       "    .dataframe thead th {\n",
       "        text-align: right;\n",
       "    }\n",
       "</style>\n",
       "<table border=\"1\" class=\"dataframe\">\n",
       "  <thead>\n",
       "    <tr style=\"text-align: right;\">\n",
       "      <th></th>\n",
       "      <th>ListingKey</th>\n",
       "      <th>ListingNumber</th>\n",
       "      <th>ListingCreationDate</th>\n",
       "      <th>CreditGrade</th>\n",
       "      <th>Term</th>\n",
       "      <th>LoanStatus</th>\n",
       "      <th>ClosedDate</th>\n",
       "      <th>BorrowerAPR</th>\n",
       "      <th>BorrowerRate</th>\n",
       "      <th>LenderYield</th>\n",
       "      <th>...</th>\n",
       "      <th>LP_ServiceFees</th>\n",
       "      <th>LP_CollectionFees</th>\n",
       "      <th>LP_GrossPrincipalLoss</th>\n",
       "      <th>LP_NetPrincipalLoss</th>\n",
       "      <th>LP_NonPrincipalRecoverypayments</th>\n",
       "      <th>PercentFunded</th>\n",
       "      <th>Recommendations</th>\n",
       "      <th>InvestmentFromFriendsCount</th>\n",
       "      <th>InvestmentFromFriendsAmount</th>\n",
       "      <th>Investors</th>\n",
       "    </tr>\n",
       "  </thead>\n",
       "  <tbody>\n",
       "    <tr>\n",
       "      <td>0</td>\n",
       "      <td>1021339766868145413AB3B</td>\n",
       "      <td>193129</td>\n",
       "      <td>2007-08-26 19:09:29.263</td>\n",
       "      <td>C</td>\n",
       "      <td>36</td>\n",
       "      <td>Completed</td>\n",
       "      <td>2009-08-14 00:00:00</td>\n",
       "      <td>0.16516</td>\n",
       "      <td>0.1580</td>\n",
       "      <td>0.1380</td>\n",
       "      <td>...</td>\n",
       "      <td>-133.18</td>\n",
       "      <td>0.0</td>\n",
       "      <td>0.0</td>\n",
       "      <td>0.0</td>\n",
       "      <td>0.0</td>\n",
       "      <td>1.0</td>\n",
       "      <td>0</td>\n",
       "      <td>0</td>\n",
       "      <td>0.0</td>\n",
       "      <td>258</td>\n",
       "    </tr>\n",
       "    <tr>\n",
       "      <td>1</td>\n",
       "      <td>10273602499503308B223C1</td>\n",
       "      <td>1209647</td>\n",
       "      <td>2014-02-27 08:28:07.900</td>\n",
       "      <td>NaN</td>\n",
       "      <td>36</td>\n",
       "      <td>Current</td>\n",
       "      <td>NaN</td>\n",
       "      <td>0.12016</td>\n",
       "      <td>0.0920</td>\n",
       "      <td>0.0820</td>\n",
       "      <td>...</td>\n",
       "      <td>0.00</td>\n",
       "      <td>0.0</td>\n",
       "      <td>0.0</td>\n",
       "      <td>0.0</td>\n",
       "      <td>0.0</td>\n",
       "      <td>1.0</td>\n",
       "      <td>0</td>\n",
       "      <td>0</td>\n",
       "      <td>0.0</td>\n",
       "      <td>1</td>\n",
       "    </tr>\n",
       "    <tr>\n",
       "      <td>2</td>\n",
       "      <td>0EE9337825851032864889A</td>\n",
       "      <td>81716</td>\n",
       "      <td>2007-01-05 15:00:47.090</td>\n",
       "      <td>HR</td>\n",
       "      <td>36</td>\n",
       "      <td>Completed</td>\n",
       "      <td>2009-12-17 00:00:00</td>\n",
       "      <td>0.28269</td>\n",
       "      <td>0.2750</td>\n",
       "      <td>0.2400</td>\n",
       "      <td>...</td>\n",
       "      <td>-24.20</td>\n",
       "      <td>0.0</td>\n",
       "      <td>0.0</td>\n",
       "      <td>0.0</td>\n",
       "      <td>0.0</td>\n",
       "      <td>1.0</td>\n",
       "      <td>0</td>\n",
       "      <td>0</td>\n",
       "      <td>0.0</td>\n",
       "      <td>41</td>\n",
       "    </tr>\n",
       "    <tr>\n",
       "      <td>3</td>\n",
       "      <td>0EF5356002482715299901A</td>\n",
       "      <td>658116</td>\n",
       "      <td>2012-10-22 11:02:35.010</td>\n",
       "      <td>NaN</td>\n",
       "      <td>36</td>\n",
       "      <td>Current</td>\n",
       "      <td>NaN</td>\n",
       "      <td>0.12528</td>\n",
       "      <td>0.0974</td>\n",
       "      <td>0.0874</td>\n",
       "      <td>...</td>\n",
       "      <td>-108.01</td>\n",
       "      <td>0.0</td>\n",
       "      <td>0.0</td>\n",
       "      <td>0.0</td>\n",
       "      <td>0.0</td>\n",
       "      <td>1.0</td>\n",
       "      <td>0</td>\n",
       "      <td>0</td>\n",
       "      <td>0.0</td>\n",
       "      <td>158</td>\n",
       "    </tr>\n",
       "    <tr>\n",
       "      <td>4</td>\n",
       "      <td>0F023589499656230C5E3E2</td>\n",
       "      <td>909464</td>\n",
       "      <td>2013-09-14 18:38:39.097</td>\n",
       "      <td>NaN</td>\n",
       "      <td>36</td>\n",
       "      <td>Current</td>\n",
       "      <td>NaN</td>\n",
       "      <td>0.24614</td>\n",
       "      <td>0.2085</td>\n",
       "      <td>0.1985</td>\n",
       "      <td>...</td>\n",
       "      <td>-60.27</td>\n",
       "      <td>0.0</td>\n",
       "      <td>0.0</td>\n",
       "      <td>0.0</td>\n",
       "      <td>0.0</td>\n",
       "      <td>1.0</td>\n",
       "      <td>0</td>\n",
       "      <td>0</td>\n",
       "      <td>0.0</td>\n",
       "      <td>20</td>\n",
       "    </tr>\n",
       "  </tbody>\n",
       "</table>\n",
       "<p>5 rows × 81 columns</p>\n",
       "</div>"
      ],
      "text/plain": [
       "                ListingKey  ListingNumber     ListingCreationDate CreditGrade  \\\n",
       "0  1021339766868145413AB3B         193129 2007-08-26 19:09:29.263           C   \n",
       "1  10273602499503308B223C1        1209647 2014-02-27 08:28:07.900         NaN   \n",
       "2  0EE9337825851032864889A          81716 2007-01-05 15:00:47.090          HR   \n",
       "3  0EF5356002482715299901A         658116 2012-10-22 11:02:35.010         NaN   \n",
       "4  0F023589499656230C5E3E2         909464 2013-09-14 18:38:39.097         NaN   \n",
       "\n",
       "   Term LoanStatus           ClosedDate  BorrowerAPR  BorrowerRate  \\\n",
       "0    36  Completed  2009-08-14 00:00:00      0.16516        0.1580   \n",
       "1    36    Current                  NaN      0.12016        0.0920   \n",
       "2    36  Completed  2009-12-17 00:00:00      0.28269        0.2750   \n",
       "3    36    Current                  NaN      0.12528        0.0974   \n",
       "4    36    Current                  NaN      0.24614        0.2085   \n",
       "\n",
       "   LenderYield  ...  LP_ServiceFees  LP_CollectionFees  LP_GrossPrincipalLoss  \\\n",
       "0       0.1380  ...         -133.18                0.0                    0.0   \n",
       "1       0.0820  ...            0.00                0.0                    0.0   \n",
       "2       0.2400  ...          -24.20                0.0                    0.0   \n",
       "3       0.0874  ...         -108.01                0.0                    0.0   \n",
       "4       0.1985  ...          -60.27                0.0                    0.0   \n",
       "\n",
       "   LP_NetPrincipalLoss LP_NonPrincipalRecoverypayments  PercentFunded  \\\n",
       "0                  0.0                             0.0            1.0   \n",
       "1                  0.0                             0.0            1.0   \n",
       "2                  0.0                             0.0            1.0   \n",
       "3                  0.0                             0.0            1.0   \n",
       "4                  0.0                             0.0            1.0   \n",
       "\n",
       "   Recommendations InvestmentFromFriendsCount InvestmentFromFriendsAmount  \\\n",
       "0                0                          0                         0.0   \n",
       "1                0                          0                         0.0   \n",
       "2                0                          0                         0.0   \n",
       "3                0                          0                         0.0   \n",
       "4                0                          0                         0.0   \n",
       "\n",
       "  Investors  \n",
       "0       258  \n",
       "1         1  \n",
       "2        41  \n",
       "3       158  \n",
       "4        20  \n",
       "\n",
       "[5 rows x 81 columns]"
      ]
     },
     "execution_count": 2,
     "metadata": {},
     "output_type": "execute_result"
    }
   ],
   "source": [
    "# load the dataset into a pandas dataframe\n",
    "df = pd.read_csv('prosperLoanData.csv', parse_dates=['ListingCreationDate'])\n",
    "df.head()"
   ]
  },
  {
   "cell_type": "markdown",
   "metadata": {},
   "source": [
    "The variable definitions for all columns in the dataset can be viewed using [link](https://www.google.com/url?q=https://docs.google.com/spreadsheet/ccc?key%3D0AllIqIyvWZdadDd5NTlqZ1pBMHlsUjdrOTZHaVBuSlE%26usp%3Dsharing&sa=D&ust=1554486256024000)"
   ]
  },
  {
   "cell_type": "code",
   "execution_count": 3,
   "metadata": {},
   "outputs": [
    {
     "name": "stdout",
     "output_type": "stream",
     "text": [
      "(113937, 81)\n"
     ]
    }
   ],
   "source": [
    "# high-level overview of data shape and composition\n",
    "print(df.shape)"
   ]
  },
  {
   "cell_type": "code",
   "execution_count": 4,
   "metadata": {},
   "outputs": [
    {
     "data": {
      "text/plain": [
       "float64           50\n",
       "object            16\n",
       "int64             11\n",
       "bool               3\n",
       "datetime64[ns]     1\n",
       "dtype: int64"
      ]
     },
     "execution_count": 4,
     "metadata": {},
     "output_type": "execute_result"
    }
   ],
   "source": [
    "df.dtypes.value_counts()"
   ]
  },
  {
   "cell_type": "markdown",
   "metadata": {},
   "source": [
    "**Data Cleaning**"
   ]
  },
  {
   "cell_type": "code",
   "execution_count": 5,
   "metadata": {},
   "outputs": [],
   "source": [
    "# The dataset contains 81 columns. \n",
    "# Filtering selected columns of interest and creating a new dataframe to simplify exploration.\n",
    "\n",
    "loan_df = df[['ListingCreationDate', 'CreditGrade', 'LoanStatus', 'BorrowerAPR', \\\n",
    "           'BorrowerRate', 'ProsperRating (Alpha)','ProsperScore', 'EmploymentStatus', 'EmploymentStatusDuration', \\\n",
    "           'CreditScoreRangeLower', 'CreditScoreRangeUpper', 'DebtToIncomeRatio', 'IncomeRange', \\\n",
    "           'StatedMonthlyIncome', 'LoanOriginalAmount', 'MonthlyLoanPayment']].copy()"
   ]
  },
  {
   "cell_type": "code",
   "execution_count": 6,
   "metadata": {},
   "outputs": [
    {
     "data": {
      "text/plain": [
       "(113937, 16)"
      ]
     },
     "execution_count": 6,
     "metadata": {},
     "output_type": "execute_result"
    }
   ],
   "source": [
    "loan_df.shape"
   ]
  },
  {
   "cell_type": "code",
   "execution_count": 7,
   "metadata": {},
   "outputs": [
    {
     "name": "stdout",
     "output_type": "stream",
     "text": [
      "<class 'pandas.core.frame.DataFrame'>\n",
      "RangeIndex: 113937 entries, 0 to 113936\n",
      "Data columns (total 16 columns):\n",
      "ListingCreationDate         113937 non-null datetime64[ns]\n",
      "CreditGrade                 28953 non-null object\n",
      "LoanStatus                  113937 non-null object\n",
      "BorrowerAPR                 113912 non-null float64\n",
      "BorrowerRate                113937 non-null float64\n",
      "ProsperRating (Alpha)       84853 non-null object\n",
      "ProsperScore                84853 non-null float64\n",
      "EmploymentStatus            111682 non-null object\n",
      "EmploymentStatusDuration    106312 non-null float64\n",
      "CreditScoreRangeLower       113346 non-null float64\n",
      "CreditScoreRangeUpper       113346 non-null float64\n",
      "DebtToIncomeRatio           105383 non-null float64\n",
      "IncomeRange                 113937 non-null object\n",
      "StatedMonthlyIncome         113937 non-null float64\n",
      "LoanOriginalAmount          113937 non-null int64\n",
      "MonthlyLoanPayment          113937 non-null float64\n",
      "dtypes: datetime64[ns](1), float64(9), int64(1), object(5)\n",
      "memory usage: 13.9+ MB\n"
     ]
    }
   ],
   "source": [
    "loan_df.info()"
   ]
  },
  {
   "cell_type": "markdown",
   "metadata": {},
   "source": [
    "**The variable definitions of the dataset highlights that the ProsperScore is applicable for loans originated after July 2009. This seems to be the reason for missing values in this column.**"
   ]
  },
  {
   "cell_type": "markdown",
   "metadata": {},
   "source": [
    "**CreditGrade**: The Credit rating that was assigned at the time the listing went live. Applicable for listings pre-2009 period and will only be populated for those listings.\n",
    "\n",
    "**ProsperRating (Alpha)**: The Prosper Rating assigned at the time the listing was created between AA - HR.  Applicable for loans originated after July 2009.\n",
    "\n",
    "These two columns provide the same data and can be combined to form a single 'ProsperRating' column."
   ]
  },
  {
   "cell_type": "code",
   "execution_count": 8,
   "metadata": {},
   "outputs": [
    {
     "data": {
      "text/plain": [
       "array(['C', nan, 'HR', 'AA', 'D', 'B', 'E', 'A', 'NC'], dtype=object)"
      ]
     },
     "execution_count": 8,
     "metadata": {},
     "output_type": "execute_result"
    }
   ],
   "source": [
    "loan_df['CreditGrade'].unique()"
   ]
  },
  {
   "cell_type": "code",
   "execution_count": 9,
   "metadata": {},
   "outputs": [
    {
     "data": {
      "text/plain": [
       "array([nan, 'A', 'D', 'B', 'E', 'C', 'AA', 'HR'], dtype=object)"
      ]
     },
     "execution_count": 9,
     "metadata": {},
     "output_type": "execute_result"
    }
   ],
   "source": [
    "loan_df['ProsperRating (Alpha)'].unique()"
   ]
  },
  {
   "cell_type": "code",
   "execution_count": 10,
   "metadata": {},
   "outputs": [],
   "source": [
    "# Creating a copy of the original loan_df dataset\n",
    "loan = loan_df.copy()"
   ]
  },
  {
   "cell_type": "code",
   "execution_count": 11,
   "metadata": {},
   "outputs": [],
   "source": [
    "# Changing the data type of columns to concatenate the columns and creating a new 'ProsperRating' column\n",
    "loan['ProsperRating'] = loan['CreditGrade'].astype(str).replace('nan','') + \\\n",
    "                        loan['ProsperRating (Alpha)'].astype(str).replace('nan','')"
   ]
  },
  {
   "cell_type": "code",
   "execution_count": 12,
   "metadata": {},
   "outputs": [
    {
     "data": {
      "text/html": [
       "<div>\n",
       "<style scoped>\n",
       "    .dataframe tbody tr th:only-of-type {\n",
       "        vertical-align: middle;\n",
       "    }\n",
       "\n",
       "    .dataframe tbody tr th {\n",
       "        vertical-align: top;\n",
       "    }\n",
       "\n",
       "    .dataframe thead th {\n",
       "        text-align: right;\n",
       "    }\n",
       "</style>\n",
       "<table border=\"1\" class=\"dataframe\">\n",
       "  <thead>\n",
       "    <tr style=\"text-align: right;\">\n",
       "      <th></th>\n",
       "      <th>CreditGrade</th>\n",
       "      <th>ProsperRating (Alpha)</th>\n",
       "      <th>ProsperRating</th>\n",
       "    </tr>\n",
       "  </thead>\n",
       "  <tbody>\n",
       "    <tr>\n",
       "      <td>72219</td>\n",
       "      <td>NaN</td>\n",
       "      <td>C</td>\n",
       "      <td>C</td>\n",
       "    </tr>\n",
       "    <tr>\n",
       "      <td>93017</td>\n",
       "      <td>NaN</td>\n",
       "      <td>C</td>\n",
       "      <td>C</td>\n",
       "    </tr>\n",
       "    <tr>\n",
       "      <td>102330</td>\n",
       "      <td>NaN</td>\n",
       "      <td>C</td>\n",
       "      <td>C</td>\n",
       "    </tr>\n",
       "    <tr>\n",
       "      <td>29135</td>\n",
       "      <td>NaN</td>\n",
       "      <td>A</td>\n",
       "      <td>A</td>\n",
       "    </tr>\n",
       "    <tr>\n",
       "      <td>88810</td>\n",
       "      <td>NaN</td>\n",
       "      <td>B</td>\n",
       "      <td>B</td>\n",
       "    </tr>\n",
       "    <tr>\n",
       "      <td>50026</td>\n",
       "      <td>NaN</td>\n",
       "      <td>A</td>\n",
       "      <td>A</td>\n",
       "    </tr>\n",
       "    <tr>\n",
       "      <td>7664</td>\n",
       "      <td>NaN</td>\n",
       "      <td>HR</td>\n",
       "      <td>HR</td>\n",
       "    </tr>\n",
       "    <tr>\n",
       "      <td>41419</td>\n",
       "      <td>NaN</td>\n",
       "      <td>C</td>\n",
       "      <td>C</td>\n",
       "    </tr>\n",
       "    <tr>\n",
       "      <td>74740</td>\n",
       "      <td>NaN</td>\n",
       "      <td>C</td>\n",
       "      <td>C</td>\n",
       "    </tr>\n",
       "    <tr>\n",
       "      <td>6121</td>\n",
       "      <td>NaN</td>\n",
       "      <td>D</td>\n",
       "      <td>D</td>\n",
       "    </tr>\n",
       "  </tbody>\n",
       "</table>\n",
       "</div>"
      ],
      "text/plain": [
       "       CreditGrade ProsperRating (Alpha) ProsperRating\n",
       "72219          NaN                     C             C\n",
       "93017          NaN                     C             C\n",
       "102330         NaN                     C             C\n",
       "29135          NaN                     A             A\n",
       "88810          NaN                     B             B\n",
       "50026          NaN                     A             A\n",
       "7664           NaN                    HR            HR\n",
       "41419          NaN                     C             C\n",
       "74740          NaN                     C             C\n",
       "6121           NaN                     D             D"
      ]
     },
     "execution_count": 12,
     "metadata": {},
     "output_type": "execute_result"
    }
   ],
   "source": [
    "# Test the code\n",
    "loan.sample(10).loc[:,['CreditGrade', 'ProsperRating (Alpha)', 'ProsperRating']]"
   ]
  },
  {
   "cell_type": "code",
   "execution_count": 13,
   "metadata": {},
   "outputs": [
    {
     "data": {
      "text/html": [
       "<div>\n",
       "<style scoped>\n",
       "    .dataframe tbody tr th:only-of-type {\n",
       "        vertical-align: middle;\n",
       "    }\n",
       "\n",
       "    .dataframe tbody tr th {\n",
       "        vertical-align: top;\n",
       "    }\n",
       "\n",
       "    .dataframe thead th {\n",
       "        text-align: right;\n",
       "    }\n",
       "</style>\n",
       "<table border=\"1\" class=\"dataframe\">\n",
       "  <thead>\n",
       "    <tr style=\"text-align: right;\">\n",
       "      <th></th>\n",
       "      <th>ListingCreationDate</th>\n",
       "      <th>CreditGrade</th>\n",
       "      <th>LoanStatus</th>\n",
       "      <th>BorrowerAPR</th>\n",
       "      <th>BorrowerRate</th>\n",
       "      <th>ProsperRating (Alpha)</th>\n",
       "      <th>ProsperScore</th>\n",
       "      <th>EmploymentStatus</th>\n",
       "      <th>EmploymentStatusDuration</th>\n",
       "      <th>CreditScoreRangeLower</th>\n",
       "      <th>CreditScoreRangeUpper</th>\n",
       "      <th>DebtToIncomeRatio</th>\n",
       "      <th>IncomeRange</th>\n",
       "      <th>StatedMonthlyIncome</th>\n",
       "      <th>LoanOriginalAmount</th>\n",
       "      <th>MonthlyLoanPayment</th>\n",
       "      <th>ProsperRating</th>\n",
       "    </tr>\n",
       "  </thead>\n",
       "  <tbody>\n",
       "  </tbody>\n",
       "</table>\n",
       "</div>"
      ],
      "text/plain": [
       "Empty DataFrame\n",
       "Columns: [ListingCreationDate, CreditGrade, LoanStatus, BorrowerAPR, BorrowerRate, ProsperRating (Alpha), ProsperScore, EmploymentStatus, EmploymentStatusDuration, CreditScoreRangeLower, CreditScoreRangeUpper, DebtToIncomeRatio, IncomeRange, StatedMonthlyIncome, LoanOriginalAmount, MonthlyLoanPayment, ProsperRating]\n",
       "Index: []"
      ]
     },
     "execution_count": 13,
     "metadata": {},
     "output_type": "execute_result"
    }
   ],
   "source": [
    "# Dataset does not have any row where both 'CreditGrade' and 'ProsperRating (Alpha)' have non-null values.\n",
    "loan[(loan['CreditGrade'].notnull()) & (loan['ProsperRating (Alpha)'].notnull())]"
   ]
  },
  {
   "cell_type": "code",
   "execution_count": 14,
   "metadata": {},
   "outputs": [],
   "source": [
    "# Removing the 'CreditGrade' and 'ProsperRating (Alpha)' as these are now redundant\n",
    "loan.drop(columns = ['CreditGrade','ProsperRating (Alpha)'], inplace=True)"
   ]
  },
  {
   "cell_type": "code",
   "execution_count": 15,
   "metadata": {},
   "outputs": [
    {
     "data": {
      "text/plain": [
       "(113937, 15)"
      ]
     },
     "execution_count": 15,
     "metadata": {},
     "output_type": "execute_result"
    }
   ],
   "source": [
    "# Test the code\n",
    "loan.shape"
   ]
  },
  {
   "cell_type": "code",
   "execution_count": 16,
   "metadata": {},
   "outputs": [
    {
     "data": {
      "text/plain": [
       "C     23994\n",
       "B     19970\n",
       "D     19427\n",
       "A     17866\n",
       "E     13084\n",
       "HR    10443\n",
       "AA     8881\n",
       "NC      141\n",
       "        131\n",
       "Name: ProsperRating, dtype: int64"
      ]
     },
     "execution_count": 16,
     "metadata": {},
     "output_type": "execute_result"
    }
   ],
   "source": [
    "loan.ProsperRating.value_counts()"
   ]
  },
  {
   "cell_type": "code",
   "execution_count": 17,
   "metadata": {},
   "outputs": [],
   "source": [
    "loan.loc[(loan.ProsperRating == '') | (loan.ProsperRating == 'NC'), 'ProsperRating'] = np.nan"
   ]
  },
  {
   "cell_type": "code",
   "execution_count": 18,
   "metadata": {},
   "outputs": [
    {
     "data": {
      "text/plain": [
       "C     23994\n",
       "B     19970\n",
       "D     19427\n",
       "A     17866\n",
       "E     13084\n",
       "HR    10443\n",
       "AA     8881\n",
       "Name: ProsperRating, dtype: int64"
      ]
     },
     "execution_count": 18,
     "metadata": {},
     "output_type": "execute_result"
    }
   ],
   "source": [
    "loan.ProsperRating.value_counts()"
   ]
  },
  {
   "cell_type": "code",
   "execution_count": 19,
   "metadata": {},
   "outputs": [],
   "source": [
    "# convert ProsperRating and IncomeRating into ordered categorical types\n",
    "ordinal_var_dict = {'ProsperRating': ['HR', 'E', 'D', 'C', 'B', 'A', 'AA'],\n",
    "                    'IncomeRange': ['Not displayed', 'Not employed', '$0', '$1-24,999', '$25,000-49,999',\\\n",
    "                    '$50,000-74,999', '$75,000-99,999', '$100,000+']}\n",
    "\n",
    "for var in ordinal_var_dict:\n",
    "\n",
    "    ordered_var = pd.api.types.CategoricalDtype(ordered = True,\n",
    "                                                categories = ordinal_var_dict[var])\n",
    "    loan[var] = loan[var].astype(ordered_var)"
   ]
  },
  {
   "cell_type": "code",
   "execution_count": 20,
   "metadata": {},
   "outputs": [
    {
     "data": {
      "text/plain": [
       "ListingCreationDate         datetime64[ns]\n",
       "LoanStatus                          object\n",
       "BorrowerAPR                        float64\n",
       "BorrowerRate                       float64\n",
       "ProsperScore                       float64\n",
       "EmploymentStatus                    object\n",
       "EmploymentStatusDuration           float64\n",
       "CreditScoreRangeLower              float64\n",
       "CreditScoreRangeUpper              float64\n",
       "DebtToIncomeRatio                  float64\n",
       "IncomeRange                       category\n",
       "StatedMonthlyIncome                float64\n",
       "LoanOriginalAmount                   int64\n",
       "MonthlyLoanPayment                 float64\n",
       "ProsperRating                     category\n",
       "dtype: object"
      ]
     },
     "execution_count": 20,
     "metadata": {},
     "output_type": "execute_result"
    }
   ],
   "source": [
    "# Test\n",
    "loan.dtypes"
   ]
  },
  {
   "cell_type": "code",
   "execution_count": 21,
   "metadata": {},
   "outputs": [
    {
     "data": {
      "text/html": [
       "<div>\n",
       "<style scoped>\n",
       "    .dataframe tbody tr th:only-of-type {\n",
       "        vertical-align: middle;\n",
       "    }\n",
       "\n",
       "    .dataframe tbody tr th {\n",
       "        vertical-align: top;\n",
       "    }\n",
       "\n",
       "    .dataframe thead th {\n",
       "        text-align: right;\n",
       "    }\n",
       "</style>\n",
       "<table border=\"1\" class=\"dataframe\">\n",
       "  <thead>\n",
       "    <tr style=\"text-align: right;\">\n",
       "      <th></th>\n",
       "      <th>ListingCreationDate</th>\n",
       "      <th>LoanStatus</th>\n",
       "      <th>BorrowerAPR</th>\n",
       "      <th>BorrowerRate</th>\n",
       "      <th>ProsperScore</th>\n",
       "      <th>EmploymentStatus</th>\n",
       "      <th>EmploymentStatusDuration</th>\n",
       "      <th>CreditScoreRangeLower</th>\n",
       "      <th>CreditScoreRangeUpper</th>\n",
       "      <th>DebtToIncomeRatio</th>\n",
       "      <th>IncomeRange</th>\n",
       "      <th>StatedMonthlyIncome</th>\n",
       "      <th>LoanOriginalAmount</th>\n",
       "      <th>MonthlyLoanPayment</th>\n",
       "      <th>ProsperRating</th>\n",
       "    </tr>\n",
       "  </thead>\n",
       "  <tbody>\n",
       "    <tr>\n",
       "      <td>17783</td>\n",
       "      <td>2011-08-01 09:28:00.190</td>\n",
       "      <td>Current</td>\n",
       "      <td>0.20200</td>\n",
       "      <td>0.1799</td>\n",
       "      <td>8.0</td>\n",
       "      <td>Employed</td>\n",
       "      <td>58.0</td>\n",
       "      <td>700.0</td>\n",
       "      <td>719.0</td>\n",
       "      <td>0.21</td>\n",
       "      <td>$25,000-49,999</td>\n",
       "      <td>3750.000000</td>\n",
       "      <td>2000</td>\n",
       "      <td>72.29</td>\n",
       "      <td>B</td>\n",
       "    </tr>\n",
       "    <tr>\n",
       "      <td>75333</td>\n",
       "      <td>2011-05-31 11:46:14.763</td>\n",
       "      <td>Completed</td>\n",
       "      <td>0.27467</td>\n",
       "      <td>0.2399</td>\n",
       "      <td>5.0</td>\n",
       "      <td>Employed</td>\n",
       "      <td>136.0</td>\n",
       "      <td>680.0</td>\n",
       "      <td>699.0</td>\n",
       "      <td>0.45</td>\n",
       "      <td>$50,000-74,999</td>\n",
       "      <td>5962.000000</td>\n",
       "      <td>5500</td>\n",
       "      <td>215.75</td>\n",
       "      <td>D</td>\n",
       "    </tr>\n",
       "    <tr>\n",
       "      <td>96914</td>\n",
       "      <td>2012-03-14 06:17:36.597</td>\n",
       "      <td>Completed</td>\n",
       "      <td>0.12782</td>\n",
       "      <td>0.0999</td>\n",
       "      <td>9.0</td>\n",
       "      <td>Employed</td>\n",
       "      <td>97.0</td>\n",
       "      <td>760.0</td>\n",
       "      <td>779.0</td>\n",
       "      <td>0.19</td>\n",
       "      <td>$100,000+</td>\n",
       "      <td>8789.416667</td>\n",
       "      <td>10000</td>\n",
       "      <td>322.62</td>\n",
       "      <td>A</td>\n",
       "    </tr>\n",
       "    <tr>\n",
       "      <td>100956</td>\n",
       "      <td>2013-04-16 13:08:13.517</td>\n",
       "      <td>Completed</td>\n",
       "      <td>0.25781</td>\n",
       "      <td>0.2199</td>\n",
       "      <td>4.0</td>\n",
       "      <td>Employed</td>\n",
       "      <td>79.0</td>\n",
       "      <td>680.0</td>\n",
       "      <td>699.0</td>\n",
       "      <td>0.10</td>\n",
       "      <td>$100,000+</td>\n",
       "      <td>8500.000000</td>\n",
       "      <td>15000</td>\n",
       "      <td>572.78</td>\n",
       "      <td>D</td>\n",
       "    </tr>\n",
       "    <tr>\n",
       "      <td>32911</td>\n",
       "      <td>2008-04-24 09:18:57.800</td>\n",
       "      <td>Chargedoff</td>\n",
       "      <td>0.11853</td>\n",
       "      <td>0.0975</td>\n",
       "      <td>NaN</td>\n",
       "      <td>Self-employed</td>\n",
       "      <td>51.0</td>\n",
       "      <td>560.0</td>\n",
       "      <td>579.0</td>\n",
       "      <td>NaN</td>\n",
       "      <td>$0</td>\n",
       "      <td>0.000000</td>\n",
       "      <td>5000</td>\n",
       "      <td>160.75</td>\n",
       "      <td>E</td>\n",
       "    </tr>\n",
       "  </tbody>\n",
       "</table>\n",
       "</div>"
      ],
      "text/plain": [
       "           ListingCreationDate  LoanStatus  BorrowerAPR  BorrowerRate  \\\n",
       "17783  2011-08-01 09:28:00.190     Current      0.20200        0.1799   \n",
       "75333  2011-05-31 11:46:14.763   Completed      0.27467        0.2399   \n",
       "96914  2012-03-14 06:17:36.597   Completed      0.12782        0.0999   \n",
       "100956 2013-04-16 13:08:13.517   Completed      0.25781        0.2199   \n",
       "32911  2008-04-24 09:18:57.800  Chargedoff      0.11853        0.0975   \n",
       "\n",
       "        ProsperScore EmploymentStatus  EmploymentStatusDuration  \\\n",
       "17783            8.0         Employed                      58.0   \n",
       "75333            5.0         Employed                     136.0   \n",
       "96914            9.0         Employed                      97.0   \n",
       "100956           4.0         Employed                      79.0   \n",
       "32911            NaN    Self-employed                      51.0   \n",
       "\n",
       "        CreditScoreRangeLower  CreditScoreRangeUpper  DebtToIncomeRatio  \\\n",
       "17783                   700.0                  719.0               0.21   \n",
       "75333                   680.0                  699.0               0.45   \n",
       "96914                   760.0                  779.0               0.19   \n",
       "100956                  680.0                  699.0               0.10   \n",
       "32911                   560.0                  579.0                NaN   \n",
       "\n",
       "           IncomeRange  StatedMonthlyIncome  LoanOriginalAmount  \\\n",
       "17783   $25,000-49,999          3750.000000                2000   \n",
       "75333   $50,000-74,999          5962.000000                5500   \n",
       "96914        $100,000+          8789.416667               10000   \n",
       "100956       $100,000+          8500.000000               15000   \n",
       "32911               $0             0.000000                5000   \n",
       "\n",
       "        MonthlyLoanPayment ProsperRating  \n",
       "17783                72.29             B  \n",
       "75333               215.75             D  \n",
       "96914               322.62             A  \n",
       "100956              572.78             D  \n",
       "32911               160.75             E  "
      ]
     },
     "execution_count": 21,
     "metadata": {},
     "output_type": "execute_result"
    }
   ],
   "source": [
    "loan.sample(5)"
   ]
  },
  {
   "cell_type": "code",
   "execution_count": 22,
   "metadata": {},
   "outputs": [
    {
     "data": {
      "text/html": [
       "<div>\n",
       "<style scoped>\n",
       "    .dataframe tbody tr th:only-of-type {\n",
       "        vertical-align: middle;\n",
       "    }\n",
       "\n",
       "    .dataframe tbody tr th {\n",
       "        vertical-align: top;\n",
       "    }\n",
       "\n",
       "    .dataframe thead th {\n",
       "        text-align: right;\n",
       "    }\n",
       "</style>\n",
       "<table border=\"1\" class=\"dataframe\">\n",
       "  <thead>\n",
       "    <tr style=\"text-align: right;\">\n",
       "      <th></th>\n",
       "      <th>BorrowerAPR</th>\n",
       "      <th>BorrowerRate</th>\n",
       "      <th>ProsperScore</th>\n",
       "      <th>EmploymentStatusDuration</th>\n",
       "      <th>CreditScoreRangeLower</th>\n",
       "      <th>CreditScoreRangeUpper</th>\n",
       "      <th>DebtToIncomeRatio</th>\n",
       "      <th>StatedMonthlyIncome</th>\n",
       "      <th>LoanOriginalAmount</th>\n",
       "      <th>MonthlyLoanPayment</th>\n",
       "    </tr>\n",
       "  </thead>\n",
       "  <tbody>\n",
       "    <tr>\n",
       "      <td>count</td>\n",
       "      <td>113912.000000</td>\n",
       "      <td>113937.000000</td>\n",
       "      <td>84853.000000</td>\n",
       "      <td>106312.000000</td>\n",
       "      <td>113346.000000</td>\n",
       "      <td>113346.000000</td>\n",
       "      <td>105383.000000</td>\n",
       "      <td>1.139370e+05</td>\n",
       "      <td>113937.00000</td>\n",
       "      <td>113937.000000</td>\n",
       "    </tr>\n",
       "    <tr>\n",
       "      <td>mean</td>\n",
       "      <td>0.218828</td>\n",
       "      <td>0.192764</td>\n",
       "      <td>5.950067</td>\n",
       "      <td>96.071582</td>\n",
       "      <td>685.567731</td>\n",
       "      <td>704.567731</td>\n",
       "      <td>0.275947</td>\n",
       "      <td>5.608026e+03</td>\n",
       "      <td>8337.01385</td>\n",
       "      <td>272.475783</td>\n",
       "    </tr>\n",
       "    <tr>\n",
       "      <td>std</td>\n",
       "      <td>0.080364</td>\n",
       "      <td>0.074818</td>\n",
       "      <td>2.376501</td>\n",
       "      <td>94.480605</td>\n",
       "      <td>66.458275</td>\n",
       "      <td>66.458275</td>\n",
       "      <td>0.551759</td>\n",
       "      <td>7.478497e+03</td>\n",
       "      <td>6245.80058</td>\n",
       "      <td>192.697812</td>\n",
       "    </tr>\n",
       "    <tr>\n",
       "      <td>min</td>\n",
       "      <td>0.006530</td>\n",
       "      <td>0.000000</td>\n",
       "      <td>1.000000</td>\n",
       "      <td>0.000000</td>\n",
       "      <td>0.000000</td>\n",
       "      <td>19.000000</td>\n",
       "      <td>0.000000</td>\n",
       "      <td>0.000000e+00</td>\n",
       "      <td>1000.00000</td>\n",
       "      <td>0.000000</td>\n",
       "    </tr>\n",
       "    <tr>\n",
       "      <td>25%</td>\n",
       "      <td>0.156290</td>\n",
       "      <td>0.134000</td>\n",
       "      <td>4.000000</td>\n",
       "      <td>26.000000</td>\n",
       "      <td>660.000000</td>\n",
       "      <td>679.000000</td>\n",
       "      <td>0.140000</td>\n",
       "      <td>3.200333e+03</td>\n",
       "      <td>4000.00000</td>\n",
       "      <td>131.620000</td>\n",
       "    </tr>\n",
       "    <tr>\n",
       "      <td>50%</td>\n",
       "      <td>0.209760</td>\n",
       "      <td>0.184000</td>\n",
       "      <td>6.000000</td>\n",
       "      <td>67.000000</td>\n",
       "      <td>680.000000</td>\n",
       "      <td>699.000000</td>\n",
       "      <td>0.220000</td>\n",
       "      <td>4.666667e+03</td>\n",
       "      <td>6500.00000</td>\n",
       "      <td>217.740000</td>\n",
       "    </tr>\n",
       "    <tr>\n",
       "      <td>75%</td>\n",
       "      <td>0.283810</td>\n",
       "      <td>0.250000</td>\n",
       "      <td>8.000000</td>\n",
       "      <td>137.000000</td>\n",
       "      <td>720.000000</td>\n",
       "      <td>739.000000</td>\n",
       "      <td>0.320000</td>\n",
       "      <td>6.825000e+03</td>\n",
       "      <td>12000.00000</td>\n",
       "      <td>371.580000</td>\n",
       "    </tr>\n",
       "    <tr>\n",
       "      <td>max</td>\n",
       "      <td>0.512290</td>\n",
       "      <td>0.497500</td>\n",
       "      <td>11.000000</td>\n",
       "      <td>755.000000</td>\n",
       "      <td>880.000000</td>\n",
       "      <td>899.000000</td>\n",
       "      <td>10.010000</td>\n",
       "      <td>1.750003e+06</td>\n",
       "      <td>35000.00000</td>\n",
       "      <td>2251.510000</td>\n",
       "    </tr>\n",
       "  </tbody>\n",
       "</table>\n",
       "</div>"
      ],
      "text/plain": [
       "         BorrowerAPR   BorrowerRate  ProsperScore  EmploymentStatusDuration  \\\n",
       "count  113912.000000  113937.000000  84853.000000             106312.000000   \n",
       "mean        0.218828       0.192764      5.950067                 96.071582   \n",
       "std         0.080364       0.074818      2.376501                 94.480605   \n",
       "min         0.006530       0.000000      1.000000                  0.000000   \n",
       "25%         0.156290       0.134000      4.000000                 26.000000   \n",
       "50%         0.209760       0.184000      6.000000                 67.000000   \n",
       "75%         0.283810       0.250000      8.000000                137.000000   \n",
       "max         0.512290       0.497500     11.000000                755.000000   \n",
       "\n",
       "       CreditScoreRangeLower  CreditScoreRangeUpper  DebtToIncomeRatio  \\\n",
       "count          113346.000000          113346.000000      105383.000000   \n",
       "mean              685.567731             704.567731           0.275947   \n",
       "std                66.458275              66.458275           0.551759   \n",
       "min                 0.000000              19.000000           0.000000   \n",
       "25%               660.000000             679.000000           0.140000   \n",
       "50%               680.000000             699.000000           0.220000   \n",
       "75%               720.000000             739.000000           0.320000   \n",
       "max               880.000000             899.000000          10.010000   \n",
       "\n",
       "       StatedMonthlyIncome  LoanOriginalAmount  MonthlyLoanPayment  \n",
       "count         1.139370e+05        113937.00000       113937.000000  \n",
       "mean          5.608026e+03          8337.01385          272.475783  \n",
       "std           7.478497e+03          6245.80058          192.697812  \n",
       "min           0.000000e+00          1000.00000            0.000000  \n",
       "25%           3.200333e+03          4000.00000          131.620000  \n",
       "50%           4.666667e+03          6500.00000          217.740000  \n",
       "75%           6.825000e+03         12000.00000          371.580000  \n",
       "max           1.750003e+06         35000.00000         2251.510000  "
      ]
     },
     "execution_count": 22,
     "metadata": {},
     "output_type": "execute_result"
    }
   ],
   "source": [
    "# Summary Statistics\n",
    "loan.describe()"
   ]
  },
  {
   "cell_type": "markdown",
   "metadata": {},
   "source": [
    "### Structure of the dataset\n",
    "\n",
    "> The cleaned dataset has 15 columns and 113937 listings. Most of the columns are numeric in nature. ListingCreationDate is a datetime column. LoanStatus, EmploymentStatus and IncomeRange are categorical columns. ProsperRating column is an ordered categorical column. Ratings range from AA, A, B, C, D, E to HR where AA is the lowest risk down to HR which stands for high risk. AA is the best rating.\n",
    "\n",
    "### Main feature of interest in the dataset\n",
    "\n",
    "> I am interested in exploring the factors that affect the Borrower's Annual Percentage Rate (APR) for the loan.\n",
    "\n",
    "### Features in the dataset that could help support the investigation into the feature of interest\n",
    "\n",
    "> I think that the credit rating and the prosper defined ratings of the borrower would have an influence on the interest rates. The Debt to Income Ratio, Income Range of borrower and the Original Loan Amount will also play a role in deciding the interest rates for the loan."
   ]
  },
  {
   "cell_type": "markdown",
   "metadata": {},
   "source": [
    "## Univariate Exploration\n",
    "\n",
    "> I'll start by looking at the distribution of the BorrowerAPR"
   ]
  },
  {
   "cell_type": "code",
   "execution_count": 46,
   "metadata": {},
   "outputs": [
    {
     "data": {
      "image/png": "[encoded data removed]",
      "text/plain": [
       "<Figure size 1080x360 with 2 Axes>"
      ]
     },
     "metadata": {
      "needs_background": "light"
     },
     "output_type": "display_data"
    }
   ],
   "source": [
    "plt.figure(figsize = [15, 5]) \n",
    "\n",
    "plt.subplot(1, 2, 1) \n",
    "bins = np.arange(0, loan.BorrowerAPR.max()+0.01, 0.01)\n",
    "plt.hist(data = loan, x = 'BorrowerAPR', bins = bins);\n",
    "plt.xlabel('Borrower APR (%)')\n",
    "plt.title('Distribution of Borrower APR')\n",
    "plt.ylabel('Frequency');\n",
    "\n",
    "plt.subplot(1, 2, 2)\n",
    "bins = np.arange(0, loan.BorrowerAPR.max()+0.001, 0.001)\n",
    "plt.hist(data = loan, x = 'BorrowerAPR', bins = bins);\n",
    "plt.xlabel('Borrower APR (%)')\n",
    "plt.title('Distribution of Borrower APR')\n",
    "plt.ylabel('Frequency');"
   ]
  },
  {
   "cell_type": "markdown",
   "metadata": {},
   "source": [
    "The distribution of Borrower APR has a peak around 0.35. The distribution was plotted using two different bin sizes to understand the distribution better. Looking at the numeric values in the dataframe it appears that the APR for the loan has 5 digits of significance.\n",
    "\n",
    "Next, I'll explore the distribution of BorrowerRate to see if it is similar to the Borrower APR"
   ]
  },
  {
   "cell_type": "code",
   "execution_count": 24,
   "metadata": {},
   "outputs": [
    {
     "data": {
      "image/png": "[encoded data removed]",
      "text/plain": [
       "<Figure size 576x360 with 1 Axes>"
      ]
     },
     "metadata": {
      "needs_background": "light"
     },
     "output_type": "display_data"
    }
   ],
   "source": [
    "bins = np.arange(0, loan.BorrowerRate.max()+0.01, 0.01)\n",
    "plt.figure(figsize=[8, 5])\n",
    "plt.hist(data = loan, x = 'BorrowerRate', bins = bins);\n",
    "plt.xlabel('Borrower Rate')\n",
    "plt.title('Distribution of Borrower Rate')\n",
    "plt.ylabel('Frequency');"
   ]
  },
  {
   "cell_type": "markdown",
   "metadata": {},
   "source": [
    "The interest rate (Borrower rate) is slighter lower than the APR. As the variables are highly correlated and have a similar meaning, I will analyze only the Borrower APR.\n",
    "\n",
    "[This](https://www.consumerfinance.gov/ask-cfpb/what-is-the-difference-between-a-mortgage-interest-rate-and-an-apr-en-135/#:~:text=The%20interest%20rate%20is%20the,to%20pay%20for%20the%20loan.&text=The%20APR%20reflects%20the%20interest,pay%20to%20get%20the%20loan.) link describes the difference between interest rate and APR. Interest does not reflect fees or any other charges you may have to pay for the loan. The APR reflects the interest rate, any points, mortgage broker fees, and other charges that you pay to get the loan.\n",
    "\n",
    "Next, I'll explore the distribuion of borrowers in the dataset based on Prosper Score and Prosper Rating."
   ]
  },
  {
   "cell_type": "code",
   "execution_count": 25,
   "metadata": {},
   "outputs": [
    {
     "data": {
      "image/png": "[encoded data removed]",
      "text/plain": [
       "<Figure size 720x720 with 2 Axes>"
      ]
     },
     "metadata": {
      "needs_background": "light"
     },
     "output_type": "display_data"
    }
   ],
   "source": [
    "# Plot a standard-scaled plot for ProsperScore and ProsperRating\n",
    "fig, ax = plt.subplots(nrows=2, figsize = [10,10])\n",
    "\n",
    "variables = ['ProsperScore', 'ProsperRating']\n",
    "\n",
    "for i in range(len(variables)):\n",
    "    var = variables[i]\n",
    "    sb.countplot(data = loan, x = var, ax = ax[i], color = sb.color_palette()[0]).set_title(f'Distribution of {var}')\n",
    "    ax[i].set(xlabel=f\"{var}\", ylabel = f\"Count of {var}\")\n",
    "plt.show()"
   ]
  },
  {
   "cell_type": "markdown",
   "metadata": {},
   "source": [
    "The bar charts show that most borrowers who apply for Prosper loan have average ratings.\n",
    "\n",
    "The next variable I wish to explore is Debt to Income Ratio."
   ]
  },
  {
   "cell_type": "code",
   "execution_count": 26,
   "metadata": {},
   "outputs": [
    {
     "data": {
      "image/png": "[encoded data removed]",
      "text/plain": [
       "<Figure size 576x360 with 1 Axes>"
      ]
     },
     "metadata": {
      "needs_background": "light"
     },
     "output_type": "display_data"
    }
   ],
   "source": [
    "# Plot a standard-scaled plot for DebtToIncomeRatio\n",
    "binsize = 0.02\n",
    "bins = np.arange(0, loan['DebtToIncomeRatio'].max()+binsize, binsize)\n",
    "\n",
    "plt.figure(figsize=[8, 5])\n",
    "plt.hist(data = loan[loan['DebtToIncomeRatio'].notnull()],\\\n",
    "                 x = 'DebtToIncomeRatio', bins = bins)\n",
    "plt.xlabel('Debt to Income Ratio')\n",
    "plt.title('Distribution of Debt To Income Ratio')\n",
    "plt.ylabel('Frequency');"
   ]
  },
  {
   "cell_type": "markdown",
   "metadata": {},
   "source": [
    "The distribution has outliers and is right-skewed. Setting limits on x-axis to take a closer look at the plot"
   ]
  },
  {
   "cell_type": "code",
   "execution_count": 27,
   "metadata": {},
   "outputs": [
    {
     "data": {
      "image/png": "[encoded data removed]",
      "text/plain": [
       "<Figure size 576x360 with 1 Axes>"
      ]
     },
     "metadata": {
      "needs_background": "light"
     },
     "output_type": "display_data"
    }
   ],
   "source": [
    "binsize = 0.02\n",
    "bins = np.arange(0, loan['DebtToIncomeRatio'].max()+binsize, binsize)\n",
    "\n",
    "plt.figure(figsize=[8, 5])\n",
    "plt.hist(data = loan[loan['DebtToIncomeRatio'].notnull()],\\\n",
    "                 x = 'DebtToIncomeRatio', bins = bins)\n",
    "plt.axvline(loan['DebtToIncomeRatio'].mean(), color='yellow', linestyle='dashed', linewidth=1)\n",
    "plt.annotate('Mean', xy=(0.29,1000), rotation=90, color='yellow', fontsize=12)\n",
    "plt.axvline(loan['DebtToIncomeRatio'].median(), color='k', linestyle='dashed', linewidth=1)\n",
    "plt.annotate('Median', xy=(0.18,1000), rotation=90, color='k', fontsize=12)\n",
    "plt.xlabel('Debt to Income Ratio')\n",
    "plt.title('Distribution of Debt To Income Ratio')\n",
    "plt.ylabel('Frequency')\n",
    "plt.xlim(0,1.2);"
   ]
  },
  {
   "cell_type": "markdown",
   "metadata": {},
   "source": [
    "The distribution is unimodal. Next, I'll look at the Loan Amount."
   ]
  },
  {
   "cell_type": "code",
   "execution_count": 28,
   "metadata": {},
   "outputs": [
    {
     "data": {
      "image/png": "[encoded data removed]",
      "text/plain": [
       "<Figure size 576x360 with 1 Axes>"
      ]
     },
     "metadata": {
      "needs_background": "light"
     },
     "output_type": "display_data"
    }
   ],
   "source": [
    "# Distribution for LoanOriginalAmount\n",
    "binsize = 1000\n",
    "bins = np.arange(500, loan['LoanOriginalAmount'].max()+binsize+500, binsize)\n",
    "\n",
    "plt.figure(figsize=[8, 5])\n",
    "plt.hist(data = loan, x = 'LoanOriginalAmount', bins = bins)\n",
    "plt.xlabel('Loan Amount ($)')\n",
    "plt.title('Distribution of Loan Original Amount')\n",
    "plt.ylabel('Frequency');"
   ]
  },
  {
   "cell_type": "markdown",
   "metadata": {},
   "source": [
    "Most popular loan amount is USD 4000. Loan amounts in the multiples of 5000 are more popular (e.g. 10000, 15000)\n",
    "\n",
    "Lastly, I explored the distribution of Stated Monthly Income using a box plot and histogram."
   ]
  },
  {
   "cell_type": "code",
   "execution_count": 29,
   "metadata": {},
   "outputs": [
    {
     "data": {
      "image/png": "[encoded data removed]",
      "text/plain": [
       "<Figure size 432x288 with 1 Axes>"
      ]
     },
     "metadata": {
      "needs_background": "light"
     },
     "output_type": "display_data"
    }
   ],
   "source": [
    "# Box Plot for StatedMonthlyIncome\n",
    "sb.boxplot(data=loan, x='StatedMonthlyIncome');\n",
    "plt.xlim(0,100000)\n",
    "plt.title('Box Plot for Stated Monthly Income')\n",
    "plt.ylabel('Frequency');"
   ]
  },
  {
   "cell_type": "markdown",
   "metadata": {},
   "source": [
    "Month Income data has outliers. The max value for StatedMonthlyIncome in the dataset is 1750000. Limit on the x-axis crops off this value from the chart. There are many other high values in this column. Such high values of monthly income seem incorrect. There could be some cases where annual income was reported as monthly income. Removing the monthly income values > 10000. These rows are less than 1% of the total dataset. So, we can remove them."
   ]
  },
  {
   "cell_type": "code",
   "execution_count": 30,
   "metadata": {},
   "outputs": [
    {
     "name": "stdout",
     "output_type": "stream",
     "text": [
      "9780 113937 0.08583690987124463\n"
     ]
    }
   ],
   "source": [
    "mask = loan['StatedMonthlyIncome']>10000\n",
    "outliers = loan[mask]['ListingCreationDate'].count()\n",
    "total = loan.shape[0]\n",
    "print(outliers, total, outliers/total)"
   ]
  },
  {
   "cell_type": "code",
   "execution_count": 31,
   "metadata": {},
   "outputs": [],
   "source": [
    "# Removing outliers (i.e, keeping only monthly income <= 10000)\n",
    "loan = loan.loc[loan['StatedMonthlyIncome']<=10000]"
   ]
  },
  {
   "cell_type": "code",
   "execution_count": 32,
   "metadata": {},
   "outputs": [
    {
     "data": {
      "text/plain": [
       "(104157, 15)"
      ]
     },
     "execution_count": 32,
     "metadata": {},
     "output_type": "execute_result"
    }
   ],
   "source": [
    "# Test the code\n",
    "loan.shape"
   ]
  },
  {
   "cell_type": "code",
   "execution_count": 33,
   "metadata": {},
   "outputs": [
    {
     "data": {
      "image/png": "[encoded data removed]",
      "text/plain": [
       "<Figure size 576x360 with 1 Axes>"
      ]
     },
     "metadata": {
      "needs_background": "light"
     },
     "output_type": "display_data"
    }
   ],
   "source": [
    "# Distribution for Stated Monthly Income\n",
    "binsize = 500\n",
    "bins = np.arange(500, loan['StatedMonthlyIncome'].max()+binsize, binsize)\n",
    "\n",
    "plt.figure(figsize=[8, 5])\n",
    "plt.hist(data = loan, x = 'StatedMonthlyIncome', bins = bins)\n",
    "plt.xlabel('Stated Monthly Income')\n",
    "plt.ylabel('# of Borrowers')\n",
    "plt.title('Distribution of Stated Monthly Income')\n",
    "plt.ylabel('Frequency');"
   ]
  },
  {
   "cell_type": "markdown",
   "metadata": {},
   "source": [
    "Stated Monthly Income is right-skewed."
   ]
  },
  {
   "cell_type": "markdown",
   "metadata": {},
   "source": [
    "### Distribution of the variable of interest\n",
    "\n",
    "> Borrower APR has a mode value around 0.35. The debt to income ratio has outliers and a limit on x-axis was set to view the right skewed plot clearly.\n",
    "\n",
    "### Unusual distributions in the features that were investigated\n",
    "\n",
    "> It was interesting to note that the loan amount is borrowed in the multiples of USD 5000.\n",
    "For the Stated Monthly Income, top 1% of the values were outliers. These were removed from the dataset.\n",
    "\n",
    ">Two of the variable Credit Grade and Prosper Ratings were diffent variable names of rating system. The changes were made in 2009. The two variables have been combined for this analysis.\n",
    "\n",
    "> _Prosper 1.0 was from their beginning in 2006 to 2008 when underwriting standards were very lax (the minimum credit score was 520) and investor returns, on average, were negative. Prosper 2.0 is from 2009 to the present day when underwriting standards improved dramatically (minimum FICO score is now 640) and returns for investors have been much better._ [Source](https://www.lendacademy.com/prosper-review/)"
   ]
  },
  {
   "cell_type": "code",
   "execution_count": null,
   "metadata": {},
   "outputs": [],
   "source": []
  }
 ],
 "metadata": {
  "kernelspec": {
   "display_name": "Python 3",
   "language": "python",
   "name": "python3"
  },
  "language_info": {
   "codemirror_mode": {
    "name": "ipython",
    "version": 3
   },
   "file_extension": ".py",
   "mimetype": "text/x-python",
   "name": "python",
   "nbconvert_exporter": "python",
   "pygments_lexer": "ipython3",
   "version": "3.7.4"
  }
 },
 "nbformat": 4,
 "nbformat_minor": 2
}
